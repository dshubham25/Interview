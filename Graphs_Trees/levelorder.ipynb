{
 "cells": [
  {
   "cell_type": "markdown",
   "metadata": {},
   "source": [
    "### Create a levelorder traversal of a binary tree."
   ]
  },
  {
   "cell_type": "markdown",
   "metadata": {},
   "source": [
    "#### Algorithm:\n",
    "* Use Queue \n",
    "* Enqueue the root node\n",
    "> have a while loop which will go throught queue and will continue to go until the queue is empty\n"
   ]
  },
  {
   "cell_type": "code",
   "execution_count": 1,
   "metadata": {},
   "outputs": [],
   "source": [
    "class Queue(object):\n",
    "    def __init__(self):\n",
    "        self.items = []\n",
    "\n",
    "    def enqueue(self, item):\n",
    "        self.items.insert(0, item)\n",
    "\n",
    "    def dequeue(self):\n",
    "        if not self.is_empty():\n",
    "            return self.items.pop()\n",
    "\n",
    "    def is_empty(self):\n",
    "        return len(self.items) == 0\n",
    "\n",
    "    def peek(self):\n",
    "        if not self.is_empty():\n",
    "            return self.items[-1].value\n",
    "\n",
    "    def __len__(self):\n",
    "        return self.size()\n",
    "\n",
    "    def size(self):\n",
    "        return len(self.items)\n"
   ]
  },
  {
   "cell_type": "code",
   "execution_count": 2,
   "metadata": {},
   "outputs": [],
   "source": [
    "class Node(object):\n",
    "    def __init__(self, value):\n",
    "        self.value = value\n",
    "        self.left = None\n",
    "        self.right = None\n"
   ]
  },
  {
   "cell_type": "code",
   "execution_count": 3,
   "metadata": {},
   "outputs": [],
   "source": [
    "class BinaryTree(object):\n",
    "    def __init__(self, root):\n",
    "        self.root = Node(root)\n",
    "    def print_tree(self, traversal_type):\n",
    "        if traversal_type == \"levelorder\":\n",
    "            return self.levelorder_print(tree.root)\n",
    "\n",
    "        else:\n",
    "            print(\"Traversal type \" + str(traversal_type) + \" is not supported.\")\n",
    "            return False\n",
    "    def levelorder_print(self, start):\n",
    "        if start is None:\n",
    "            return \n",
    "\n",
    "        queue = Queue()\n",
    "        queue.enqueue(start)\n",
    "\n",
    "        traversal = \"\"\n",
    "        while len(queue) > 0:\n",
    "            traversal += str(queue.peek()) + \"-\"\n",
    "            node = queue.dequeue()\n",
    "\n",
    "            if node.left:\n",
    "                queue.enqueue(node.left)\n",
    "            if node.right:\n",
    "                queue.enqueue(node.right)\n",
    "\n",
    "        return traversal"
   ]
  },
  {
   "cell_type": "code",
   "execution_count": 5,
   "metadata": {},
   "outputs": [
    {
     "name": "stdout",
     "output_type": "stream",
     "text": [
      "1-7-3-4-5-\n"
     ]
    }
   ],
   "source": [
    "tree = BinaryTree(1)\n",
    "tree.root.left = Node(7)\n",
    "tree.root.right = Node(3)\n",
    "tree.root.left.left = Node(4)\n",
    "tree.root.left.right = Node(5)\n",
    "\n",
    "print(tree.print_tree(\"levelorder\"))"
   ]
  },
  {
   "cell_type": "code",
   "execution_count": null,
   "metadata": {},
   "outputs": [],
   "source": []
  }
 ],
 "metadata": {
  "kernelspec": {
   "display_name": "Python 3.8.5 32-bit",
   "language": "python",
   "name": "python38532bitd48683f89fbe4418beb3056b5ed1f1a8"
  },
  "language_info": {
   "codemirror_mode": {
    "name": "ipython",
    "version": 3
   },
   "file_extension": ".py",
   "mimetype": "text/x-python",
   "name": "python",
   "nbconvert_exporter": "python",
   "pygments_lexer": "ipython3",
   "version": "3.8.5"
  }
 },
 "nbformat": 4,
 "nbformat_minor": 4
}
