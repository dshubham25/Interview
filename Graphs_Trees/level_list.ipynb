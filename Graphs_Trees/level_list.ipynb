{
 "cells": [
  {
   "cell_type": "markdown",
   "metadata": {},
   "source": [
    "### Create a list for each level of a binary tree."
   ]
  },
  {
   "cell_type": "markdown",
   "metadata": {},
   "source": [
    "#### Algorithm:\n",
    "* Use of BFS\n",
    "* Append the root of the current level's linked list\n",
    "   * Add current to the result\n",
    "   * set parents to the current to go to the next level\n",
    "   * clear current \n",
    "   * for each parent in parents, add the children to the current\n"
   ]
  },
  {
   "cell_type": "code",
   "execution_count": 1,
   "metadata": {},
   "outputs": [],
   "source": [
    "def level_list(self):\n",
    "    if self.root is None:\n",
    "        return False\n",
    "    res = []\n",
    "    curr = []\n",
    "    parents = []\n",
    "    curr.append(self.root)\n",
    "    while curr:\n",
    "        res.append(current)\n",
    "        parents = list(curr)\n",
    "        curr = []\n",
    "        for parent in parents:\n",
    "            if parent.left is not None:\n",
    "                current.append(parent.left)\n",
    "            if parent.right is not None:\n",
    "                current.append(parent.right)\n",
    "        return results"
   ]
  },
  {
   "cell_type": "code",
   "execution_count": null,
   "metadata": {},
   "outputs": [],
   "source": []
  }
 ],
 "metadata": {
  "kernelspec": {
   "display_name": "Python 3.8.5 32-bit",
   "language": "python",
   "name": "python38532bitd48683f89fbe4418beb3056b5ed1f1a8"
  },
  "language_info": {
   "codemirror_mode": {
    "name": "ipython",
    "version": 3
   },
   "file_extension": ".py",
   "mimetype": "text/x-python",
   "name": "python",
   "nbconvert_exporter": "python",
   "pygments_lexer": "ipython3",
   "version": "3.8.5"
  }
 },
 "nbformat": 4,
 "nbformat_minor": 4
}
