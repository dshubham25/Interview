{
 "cells": [
  {
   "cell_type": "code",
   "execution_count": 1,
   "metadata": {},
   "outputs": [],
   "source": [
    "def hasSingleCycle(array):\n",
    "    elementVisited = 0\n",
    "    currentIdx = 0\n",
    "    while elementVisted < len(array):\n",
    "        if elementVisited > 0 and currentIdx == 0:\n",
    "            return False\n",
    "        elementVisited += 1\n",
    "        currentIdx = getNextIdx(currenIdx, array)\n",
    "    return currentIdx == 0"
   ]
  },
  {
   "cell_type": "code",
   "execution_count": 2,
   "metadata": {},
   "outputs": [],
   "source": [
    "def getNextIdx(currentIdx, array):\n",
    "    jump = array[currentIdx]\n",
    "    nextIdx = (currrentIdx + jump) % len(array)\n",
    "    return nextIdx if nextIdx >= 0 else nextIdx + len(array)"
   ]
  }
 ],
 "metadata": {
  "kernelspec": {
   "display_name": "Python 3.8.5 32-bit",
   "language": "python",
   "name": "python38532bitd48683f89fbe4418beb3056b5ed1f1a8"
  },
  "language_info": {
   "codemirror_mode": {
    "name": "ipython",
    "version": 3
   },
   "file_extension": ".py",
   "mimetype": "text/x-python",
   "name": "python",
   "nbconvert_exporter": "python",
   "pygments_lexer": "ipython3",
   "version": "3.8.5"
  }
 },
 "nbformat": 4,
 "nbformat_minor": 4
}
