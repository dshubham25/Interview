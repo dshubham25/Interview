{
 "cells": [
  {
   "cell_type": "code",
   "execution_count": 3,
   "metadata": {},
   "outputs": [],
   "source": [
    "def sortStack(stack):\n",
    "    curr = 0\n",
    "    temp = []\n",
    "    while stack != []:\n",
    "        curr = stack.pop()\n",
    "        if len(temp) == 0 or curr > temp[len(temp)-1]:\n",
    "            temp.append(curr)\n",
    "        else:\n",
    "            j = True\n",
    "            while j:\n",
    "                if curr < temp[len(temp)-1]:\n",
    "                    stack.append(temp.pop())\n",
    "                    if len(temp) == 0:\n",
    "                        j = False\n",
    "                else:\n",
    "                    j = False\n",
    "        temp.append(curr)\n",
    "    stack.append(temp)\n",
    "    return stack    "
   ]
  },
  {
   "cell_type": "code",
   "execution_count": 4,
   "metadata": {},
   "outputs": [
    {
     "name": "stdout",
     "output_type": "stream",
     "text": [
      "[[2, 3, 3, 6, 6, 6, 11, 11, 11, 11, 11, 18, 18, 18, 18, 19, 19]]\n"
     ]
    }
   ],
   "source": [
    "s = [19,2,3,18, 6, 11]\n",
    "print(sortStack(s))"
   ]
  }
 ],
 "metadata": {
  "kernelspec": {
   "display_name": "Python 3.8.5 32-bit",
   "language": "python",
   "name": "python38532bitd48683f89fbe4418beb3056b5ed1f1a8"
  },
  "language_info": {
   "codemirror_mode": {
    "name": "ipython",
    "version": 3
   },
   "file_extension": ".py",
   "mimetype": "text/x-python",
   "name": "python",
   "nbconvert_exporter": "python",
   "pygments_lexer": "ipython3",
   "version": "3.8.5"
  }
 },
 "nbformat": 4,
 "nbformat_minor": 4
}
