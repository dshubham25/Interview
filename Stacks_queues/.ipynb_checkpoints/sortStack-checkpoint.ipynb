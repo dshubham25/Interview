{
 "cells": [
  {
   "cell_type": "markdown",
   "metadata": {},
   "source": [
    "### Sort a stack. You can use another stack as a buffer."
   ]
  },
  {
   "cell_type": "markdown",
   "metadata": {},
   "source": [
    "#### Algorithm:\n",
    "* pop the top element of the main stack and using temporary stack push onto it\n",
    "* if the next element is less then the element present in the the temporary stack\n",
    "* pop the element present in the stack and then push the element which was less\n",
    "* after that the temp. stack will have all the elements in reverse sort\n",
    "* push it into the main stack and all the elements will now be sorted"
   ]
  },
  {
   "cell_type": "code",
   "execution_count": 16,
   "metadata": {},
   "outputs": [],
   "source": [
    "def createStack(): \n",
    "    stack = [] \n",
    "    return stack\n",
    "\n",
    "def push(stack, item): \n",
    "    stack.append(item)\n",
    "\n",
    "def pop(stack): \n",
    "\n",
    "    if(isEmpty( stack )): \n",
    "        print(\"Stack Underflow \")\n",
    "    return stack.pop() \n",
    "\n",
    "def sortStack (stack): \n",
    "    tmpStack = createStack() \n",
    "    while(isEmpty(stack) == False):  \n",
    "        tmp = top(stack) \n",
    "        pop(stack)\n",
    "        while(isEmpty(tmpStack) == False and\n",
    "            int(top(tmpStack)) > int(tmp)): \n",
    "\n",
    "            push(stack,top(tmpStack)) \n",
    "            pop(tmpStack) \n",
    "        push(tmpStack,tmp) \n",
    "\n",
    "    return tmpStack\n",
    "\n",
    "def prints(stack): \n",
    "    for i in range(len(stack)-1, -1, -1): \n",
    "        print(stack[i], end = ' ') \n",
    "    print() \n"
   ]
  },
  {
   "cell_type": "code",
   "execution_count": 17,
   "metadata": {},
   "outputs": [
    {
     "name": "stdout",
     "output_type": "stream",
     "text": [
      "Sorted numbers are: \n",
      "98 92 34 31 23 3 \n"
     ]
    }
   ],
   "source": [
    "stack = createStack() \n",
    "push(stack, str(34)) \n",
    "push(stack, str(3)) \n",
    "push(stack, str(31)) \n",
    "push(stack, str(98)) \n",
    "push(stack, str(92)) \n",
    "push(stack, str(23)) \n",
    "\n",
    "print(\"Sorted numbers are: \") \n",
    "sortedst = sortStack (stack) \n",
    "prints(sortedst)"
   ]
  },
  {
   "cell_type": "code",
   "execution_count": null,
   "metadata": {},
   "outputs": [],
   "source": []
  }
 ],
 "metadata": {
  "kernelspec": {
   "display_name": "Python 3.8.5 32-bit",
   "language": "python",
   "name": "python38532bitd48683f89fbe4418beb3056b5ed1f1a8"
  },
  "language_info": {
   "codemirror_mode": {
    "name": "ipython",
    "version": 3
   },
   "file_extension": ".py",
   "mimetype": "text/x-python",
   "name": "python",
   "nbconvert_exporter": "python",
   "pygments_lexer": "ipython3",
   "version": "3.8.5"
  }
 },
 "nbformat": 4,
 "nbformat_minor": 4
}
