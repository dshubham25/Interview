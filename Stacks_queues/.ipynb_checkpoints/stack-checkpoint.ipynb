{
 "cells": [
  {
   "cell_type": "markdown",
   "metadata": {},
   "source": [
    "### Implement a stack with push, pop, and min methods running O(1) time."
   ]
  },
  {
   "cell_type": "markdown",
   "metadata": {},
   "source": [
    "#### Algorithm:\n",
    "Use of two stack\n",
    "\n",
    "*min*\n",
    "* main stack will function properly\n",
    "* second stack will be used to store minimum valued element\n"
   ]
  },
  {
   "cell_type": "code",
   "execution_count": 7,
   "metadata": {},
   "outputs": [],
   "source": [
    "from collections import deque\n",
    "\n",
    "class Stack:\n",
    "    def __init__(self):\n",
    "        self.s = deque()\n",
    "        self.aux = deque()\n",
    "        \n",
    "    def push(self, x):\n",
    "        self.s.append(x)\n",
    "        if not self.aux:\n",
    "            self.aux.append(x)\n",
    "        else:\n",
    "            if self.aux[-1] >= x:\n",
    "                self.aux.append(x)\n",
    "            \n",
    "    def pop(self):\n",
    "\n",
    "        if self.empty():\n",
    "            print(\"Stack underflow\")\n",
    "            return -1\n",
    "        top = self.s.pop()\n",
    "        if top == self.aux[-1]:\n",
    "            self.aux.pop()\n",
    "        return top\n",
    "\n",
    "    \n",
    "    def get_min(self):\n",
    "        if not self.aux:\n",
    "            print(\"Stack Underflow\")\n",
    "            return -1\n",
    "        return self.aux[-1]\n",
    "    \n",
    "    def empty(self):\n",
    "\n",
    "        return not self.s"
   ]
  },
  {
   "cell_type": "code",
   "execution_count": 8,
   "metadata": {},
   "outputs": [
    {
     "name": "stdout",
     "output_type": "stream",
     "text": [
      "6\n",
      "6\n",
      "6\n",
      "5\n",
      "3\n",
      "5\n",
      "5\n",
      "5\n",
      "6\n"
     ]
    }
   ],
   "source": [
    "s = Stack()\n",
    "\n",
    "s.push(6)\n",
    "print(s.get_min())\n",
    "s.push(7)\n",
    "print(s.get_min())\n",
    "s.push(8)\n",
    "print(s.get_min())\n",
    "s.push(5)\n",
    "print(s.get_min())\n",
    "s.push(3)\n",
    "print(s.get_min())\n",
    "s.pop()\n",
    "print(s.get_min())\n",
    "s.push(10)\n",
    "print(s.get_min())\n",
    "s.pop()\n",
    "print(s.get_min())\n",
    "s.pop()\n",
    "print(s.get_min())"
   ]
  }
 ],
 "metadata": {
  "kernelspec": {
   "display_name": "Python 3.8.5 32-bit",
   "language": "python",
   "name": "python38532bitd48683f89fbe4418beb3056b5ed1f1a8"
  },
  "language_info": {
   "codemirror_mode": {
    "name": "ipython",
    "version": 3
   },
   "file_extension": ".py",
   "mimetype": "text/x-python",
   "name": "python",
   "nbconvert_exporter": "python",
   "pygments_lexer": "ipython3",
   "version": "3.8.5"
  }
 },
 "nbformat": 4,
 "nbformat_minor": 4
}
