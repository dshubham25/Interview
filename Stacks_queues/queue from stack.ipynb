{
 "cells": [
  {
   "cell_type": "markdown",
   "metadata": {},
   "source": [
    "### Implement a queue using two stacks."
   ]
  },
  {
   "cell_type": "code",
   "execution_count": 1,
   "metadata": {},
   "outputs": [],
   "source": [
    "from collections import deque\n",
    "\n",
    "class Queue:\n",
    "    def __init__(self):\n",
    "        self.s1 = deque()\n",
    "        self.s2 = deque()\n",
    "    \n",
    "    def enqueue(self, x):\n",
    "        while len(self.s1):\n",
    "            self.s2.append(self.s1.pop())\n",
    "        self.s1.append(x)\n",
    "        while len(self.s2):\n",
    "            self.s1.append(self.s2.pop())\n",
    "            \n",
    "    def dequeue(self):\n",
    "        if not self.s1:\n",
    "            return\n",
    "        return self.s1.pop()"
   ]
  },
  {
   "cell_type": "code",
   "execution_count": 2,
   "metadata": {},
   "outputs": [
    {
     "name": "stdout",
     "output_type": "stream",
     "text": [
      "1\n",
      "2\n"
     ]
    }
   ],
   "source": [
    "keys = [1, 2, 3, 4, 5]\n",
    "q = Queue()\n",
    "for key in keys:\n",
    "    q.enqueue(key)\n",
    "\n",
    "print(q.dequeue())\n",
    "print(q.dequeue())"
   ]
  },
  {
   "cell_type": "code",
   "execution_count": null,
   "metadata": {},
   "outputs": [],
   "source": []
  }
 ],
 "metadata": {
  "kernelspec": {
   "display_name": "Python 3.8.5 32-bit",
   "language": "python",
   "name": "python38532bitd48683f89fbe4418beb3056b5ed1f1a8"
  },
  "language_info": {
   "codemirror_mode": {
    "name": "ipython",
    "version": 3
   },
   "file_extension": ".py",
   "mimetype": "text/x-python",
   "name": "python",
   "nbconvert_exporter": "python",
   "pygments_lexer": "ipython3",
   "version": "3.8.5"
  }
 },
 "nbformat": 4,
 "nbformat_minor": 4
}
