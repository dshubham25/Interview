{
 "cells": [
  {
   "cell_type": "markdown",
   "metadata": {},
   "source": [
    "### Determine if a string is a permutation of another string."
   ]
  },
  {
   "cell_type": "markdown",
   "metadata": {},
   "source": [
    "#### Algorithm 1:\n",
    "* Check the base case\n",
    "> if the len(string) != len(string2)\n",
    "* Remove white spaces\n",
    "> * Return \"False\"\n",
    "* if the character is present in both str_1 and str_2 remove the character\n",
    "* If the len == 0\n",
    "> then the string is the permutation of the other string\n",
    "\n",
    "\n",
    "\n",
    "\n",
    "\n",
    "#### Algorithm 2: \n",
    "* Check the base case\n",
    "> if the len(string) != len(string2)\n",
    "* Remove white spaces\n",
    "> * Return \"False\"\n",
    "* Use Hash Table to check the count of the occurance of the each character in the string\n",
    "* If the len(dict(string)) == len(dict(string2))\n",
    "> * Return \"True\"\n"
   ]
  },
  {
   "cell_type": "code",
   "execution_count": 3,
   "metadata": {},
   "outputs": [],
   "source": [
    "def string_permutation(str_1, str_2):\n",
    "    ### Remove white spaces\n",
    "    str_1 = str_1.replace(\" \",\"\")\n",
    "    str_2 = str_2.replace(\" \",\"\")\n",
    "    if len(str_1) != len(str_2):\n",
    "        return False\n",
    "    for c in str_1:\n",
    "        if c in str_2:\n",
    "            str_2 = str_2.replace(c, \"\")\n",
    "    return len(str_2) == 0"
   ]
  },
  {
   "cell_type": "code",
   "execution_count": 4,
   "metadata": {},
   "outputs": [
    {
     "name": "stdout",
     "output_type": "stream",
     "text": [
      "True\n"
     ]
    }
   ],
   "source": [
    "str_1 = \"driving\"\n",
    "str_2 = \"drivign\"\n",
    "print(string_permutation(str_1, str_2))"
   ]
  },
  {
   "cell_type": "code",
   "execution_count": 7,
   "metadata": {},
   "outputs": [],
   "source": [
    "from collections import defaultdict\n",
    "\n",
    "def permutation_hash(str_1, str_2):\n",
    "    if len(str_1) != len(str_2):\n",
    "        return False\n",
    "    count_1 = defaultdict(int)\n",
    "    count_2 = defaultdict(int)\n",
    "    for c in str_1:\n",
    "        count_1[c] += 1\n",
    "    for c in str_2:\n",
    "        count_2[c] += 1\n",
    "    return count_1 == count_2"
   ]
  },
  {
   "cell_type": "code",
   "execution_count": 8,
   "metadata": {},
   "outputs": [
    {
     "name": "stdout",
     "output_type": "stream",
     "text": [
      "True\n"
     ]
    }
   ],
   "source": [
    "str_1 = \"driving\"\n",
    "str_2 = \"drivign\"\n",
    "print(permutation_hash(str_1, str_2))"
   ]
  },
  {
   "cell_type": "code",
   "execution_count": null,
   "metadata": {},
   "outputs": [],
   "source": []
  }
 ],
 "metadata": {
  "kernelspec": {
   "display_name": "Python 3.8.5 32-bit",
   "language": "python",
   "name": "python38532bitd48683f89fbe4418beb3056b5ed1f1a8"
  },
  "language_info": {
   "codemirror_mode": {
    "name": "ipython",
    "version": 3
   },
   "file_extension": ".py",
   "mimetype": "text/x-python",
   "name": "python",
   "nbconvert_exporter": "python",
   "pygments_lexer": "ipython3",
   "version": "3.8.5"
  }
 },
 "nbformat": 4,
 "nbformat_minor": 4
}
