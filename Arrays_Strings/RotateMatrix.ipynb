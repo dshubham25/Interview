{
 "cells": [
  {
   "cell_type": "markdown",
   "metadata": {},
   "source": [
    "### Given an image represented by an NxN matrix, where each pixel in the image is 4 bytes, write a method to rotate the image by 90 degrees. (an you do this in place)? "
   ]
  },
  {
   "cell_type": "code",
   "execution_count": 1,
   "metadata": {},
   "outputs": [],
   "source": [
    "def rotate_matrix(mat):\n",
    "    if mat is None or len(mat) < 1:\n",
    "        return\n",
    "    if len(mat) == 1:\n",
    "        return mat\n",
    "    else:\n",
    "        new_mat = [row[:] for row in mat]\n",
    "        l = len(mat)\n",
    "        for i in range(0, l):\n",
    "            for j in range(0, l):\n",
    "                new_mat[j][l-1-i] = mat[i][j]\n",
    "    return new_mat"
   ]
  },
  {
   "cell_type": "code",
   "execution_count": 2,
   "metadata": {},
   "outputs": [
    {
     "name": "stdout",
     "output_type": "stream",
     "text": [
      "[[13, 9, 5, 1], [14, 10, 6, 2], [15, 11, 7, 3], [16, 12, 8, 4]]\n"
     ]
    }
   ],
   "source": [
    "mat = [ [1, 2, 3, 4 ], \n",
    "        [5, 6, 7, 8 ], \n",
    "        [9, 10, 11, 12 ], \n",
    "        [13, 14, 15, 16 ] ] \n",
    "print(rotate_matrix(mat))"
   ]
  },
  {
   "cell_type": "code",
   "execution_count": null,
   "metadata": {},
   "outputs": [],
   "source": []
  }
 ],
 "metadata": {
  "kernelspec": {
   "display_name": "Python 3.8.5 32-bit",
   "language": "python",
   "name": "python38532bitd48683f89fbe4418beb3056b5ed1f1a8"
  },
  "language_info": {
   "codemirror_mode": {
    "name": "ipython",
    "version": 3
   },
   "file_extension": ".py",
   "mimetype": "text/x-python",
   "name": "python",
   "nbconvert_exporter": "python",
   "pygments_lexer": "ipython3",
   "version": "3.8.5"
  }
 },
 "nbformat": 4,
 "nbformat_minor": 4
}
