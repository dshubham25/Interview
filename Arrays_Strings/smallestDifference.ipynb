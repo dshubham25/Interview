{
 "cells": [
  {
   "cell_type": "markdown",
   "metadata": {},
   "source": [
    "### Find the two elements that have the smallest difference in a given array"
   ]
  },
  {
   "cell_type": "code",
   "execution_count": 1,
   "metadata": {},
   "outputs": [],
   "source": [
    "def find_min(arr):\n",
    "    arr = sorted(arr)\n",
    "    min_diff = None\n",
    "    for i in range(1, len(arr)):\n",
    "        diff = arr[i] - arr[i-1]\n",
    "        if min_diff is None or min_diff > diff:\n",
    "            min_diff = diff\n",
    "    return min_diff"
   ]
  },
  {
   "cell_type": "code",
   "execution_count": 4,
   "metadata": {},
   "outputs": [
    {
     "name": "stdout",
     "output_type": "stream",
     "text": [
      "Find minimum difference between items in array\n",
      "array is [100, 20, 52, 18, -4] result 2 expected 2\n"
     ]
    }
   ],
   "source": [
    "data = [\n",
    "            [[100, 20, 52, 18, -4], 2]\n",
    "           ]\n",
    "for d in data:\n",
    "    print('array is', d[0], 'result', find_min(d[0]), 'expected', d[1])"
   ]
  },
  {
   "cell_type": "code",
   "execution_count": null,
   "metadata": {},
   "outputs": [],
   "source": []
  }
 ],
 "metadata": {
  "kernelspec": {
   "display_name": "Python 3.8.5 32-bit",
   "language": "python",
   "name": "python38532bitd48683f89fbe4418beb3056b5ed1f1a8"
  },
  "language_info": {
   "codemirror_mode": {
    "name": "ipython",
    "version": 3
   },
   "file_extension": ".py",
   "mimetype": "text/x-python",
   "name": "python",
   "nbconvert_exporter": "python",
   "pygments_lexer": "ipython3",
   "version": "3.8.5"
  }
 },
 "nbformat": 4,
 "nbformat_minor": 4
}
