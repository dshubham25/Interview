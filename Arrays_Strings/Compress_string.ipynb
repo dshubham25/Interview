{
 "cells": [
  {
   "cell_type": "markdown",
   "metadata": {},
   "source": [
    "### Compress a string such that 'AAABCCDDDD' becomes 'A3BC2D4'. Only compress the string if it saves space."
   ]
  },
  {
   "cell_type": "markdown",
   "metadata": {},
   "source": []
  },
  {
   "cell_type": "code",
   "execution_count": 2,
   "metadata": {},
   "outputs": [],
   "source": [
    "def compress_string(string):\n",
    "    comp_str = \"\"\n",
    "    count = 1\n",
    "    # base case:\n",
    "    if len(string) is None:\n",
    "        raise TypeError (\"String cannot be none\")\n",
    "    #algorithm\n",
    "    for i in range(len(string)-1):\n",
    "        if string[i] == string[i+1]:\n",
    "            count += 1\n",
    "        else:\n",
    "            comp_str += string[i] + str(count)\n",
    "            count = 1\n",
    "    comp_str += string[i] + str(count)\n",
    "    if len(comp_str) >= len(string):\n",
    "        return string\n",
    "    else:\n",
    "        return comp_str"
   ]
  },
  {
   "cell_type": "code",
   "execution_count": 3,
   "metadata": {},
   "outputs": [
    {
     "name": "stdout",
     "output_type": "stream",
     "text": [
      "A3B1C2D4\n"
     ]
    }
   ],
   "source": [
    "string = \"AAABCCDDDD\"\n",
    "print(compress_string(string))"
   ]
  },
  {
   "cell_type": "code",
   "execution_count": null,
   "metadata": {},
   "outputs": [],
   "source": []
  }
 ],
 "metadata": {
  "kernelspec": {
   "display_name": "Python 3.8.5 32-bit",
   "language": "python",
   "name": "python38532bitd48683f89fbe4418beb3056b5ed1f1a8"
  },
  "language_info": {
   "codemirror_mode": {
    "name": "ipython",
    "version": 3
   },
   "file_extension": ".py",
   "mimetype": "text/x-python",
   "name": "python",
   "nbconvert_exporter": "python",
   "pygments_lexer": "ipython3",
   "version": "3.8.5"
  }
 },
 "nbformat": 4,
 "nbformat_minor": 4
}
