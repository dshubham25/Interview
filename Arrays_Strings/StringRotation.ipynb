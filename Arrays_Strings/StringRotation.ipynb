{
 "cells": [
  {
   "cell_type": "markdown",
   "metadata": {},
   "source": [
    "### Determine if a string s1 is a rotation of another string s2"
   ]
  },
  {
   "cell_type": "code",
   "execution_count": 6,
   "metadata": {},
   "outputs": [],
   "source": [
    "def string_rotation(s1, s2):\n",
    "    if len(s1) != len(s2):\n",
    "        return False\n",
    "    s1 = s1 + s1\n",
    "    i = 0\n",
    "    j = 0\n",
    "    while i < len(s1):\n",
    "        if len(s1)-i+1 < len(s2):\n",
    "            return False\n",
    "        while i < len(s1) and j < len(s2) and s1[i] == s2[j]:\n",
    "            return True\n",
    "            i += 1\n",
    "            j += 1\n",
    "        if j == len(s2):\n",
    "            return True\n",
    "        if j:\n",
    "            i -= 1\n",
    "        j = 0\n",
    "        i += 1\n",
    "        "
   ]
  },
  {
   "cell_type": "code",
   "execution_count": 7,
   "metadata": {},
   "outputs": [
    {
     "name": "stdout",
     "output_type": "stream",
     "text": [
      "True\n"
     ]
    }
   ],
   "source": [
    "s1 = 'watterbottle'\n",
    "s2 = 'bottlewatter'\n",
    "print(string_rotation(s1, s2))"
   ]
  },
  {
   "cell_type": "code",
   "execution_count": null,
   "metadata": {},
   "outputs": [],
   "source": []
  }
 ],
 "metadata": {
  "kernelspec": {
   "display_name": "Python 3.8.5 32-bit",
   "language": "python",
   "name": "python38532bitd48683f89fbe4418beb3056b5ed1f1a8"
  },
  "language_info": {
   "codemirror_mode": {
    "name": "ipython",
    "version": 3
   },
   "file_extension": ".py",
   "mimetype": "text/x-python",
   "name": "python",
   "nbconvert_exporter": "python",
   "pygments_lexer": "ipython3",
   "version": "3.8.5"
  }
 },
 "nbformat": 4,
 "nbformat_minor": 4
}
