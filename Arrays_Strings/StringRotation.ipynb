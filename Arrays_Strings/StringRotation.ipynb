{
 "cells": [
  {
   "cell_type": "markdown",
   "metadata": {},
   "source": [
    "### Determine if a string s1 is a rotation of another string s2, by calling (only once) a function is_substring."
   ]
  },
  {
   "cell_type": "markdown",
   "metadata": {},
   "source": [
    "#### Algorithm:\n",
    "* Check if the len(str1) != len(str2)\n",
    "* Check Case sensitivity\n",
    "* Use Hash Table\n",
    "> if len(str1) == len(str2)\n",
    "* it will return True"
   ]
  },
  {
   "cell_type": "code",
   "execution_count": 3,
   "metadata": {},
   "outputs": [],
   "source": [
    "import string\n",
    "def string_rotation(str1, str2):\n",
    "    if len(str1) != len(str2):\n",
    "        return False\n",
    "    str1 = str1.lower()\n",
    "    str2 = str2.lower()\n",
    "    dict1 = dict.fromkeys(list(string.ascii_lowercase), 0)\n",
    "    dict2 = dict.fromkeys(list(string.ascii_lowercase), 0)\n",
    "    for i in range(len(str1)):\n",
    "        dict1[str1[i]] += 1\n",
    "        dict2[str2[i]] += 1\n",
    "    return dict1 == dict2"
   ]
  },
  {
   "cell_type": "code",
   "execution_count": 4,
   "metadata": {},
   "outputs": [
    {
     "name": "stdout",
     "output_type": "stream",
     "text": [
      "True\n"
     ]
    }
   ],
   "source": [
    "str1 = 'waterbottle'\n",
    "str2 = 'bottlewaert'\n",
    "\n",
    "print(string_rotation(str1, str2))"
   ]
  },
  {
   "cell_type": "code",
   "execution_count": null,
   "metadata": {},
   "outputs": [],
   "source": []
  }
 ],
 "metadata": {
  "kernelspec": {
   "display_name": "Python 3.8.5 32-bit",
   "language": "python",
   "name": "python38532bitd48683f89fbe4418beb3056b5ed1f1a8"
  },
  "language_info": {
   "codemirror_mode": {
    "name": "ipython",
    "version": 3
   },
   "file_extension": ".py",
   "mimetype": "text/x-python",
   "name": "python",
   "nbconvert_exporter": "python",
   "pygments_lexer": "ipython3",
   "version": "3.8.5"
  }
 },
 "nbformat": 4,
 "nbformat_minor": 4
}
