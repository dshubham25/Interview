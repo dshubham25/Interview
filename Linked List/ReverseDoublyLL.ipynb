{
 "cells": [
  {
   "cell_type": "markdown",
   "metadata": {},
   "source": [
    "### Reverse the Doubly Linked List"
   ]
  },
  {
   "cell_type": "code",
   "execution_count": 1,
   "metadata": {},
   "outputs": [],
   "source": [
    "class Node:\n",
    "    def __init__(self, data):\n",
    "        self.data = data\n",
    "        self.next = None\n",
    "        self.prev = None"
   ]
  },
  {
   "cell_type": "code",
   "execution_count": 5,
   "metadata": {},
   "outputs": [],
   "source": [
    "class DoublyLinkedList:\n",
    "    def __init__(self):\n",
    "        self.head = None\n",
    "\n",
    "    def append(self, data):\n",
    "        if self.head is None:\n",
    "            new_node = Node(data)\n",
    "            new_node.prev = None\n",
    "            self.head = new_node\n",
    "        else:\n",
    "            new_node = Node(data)\n",
    "            cur = self.head\n",
    "            while cur.next:\n",
    "                cur = cur.next\n",
    "            cur.next = new_node\n",
    "            new_node.prev = cur\n",
    "            new_node.next = None\n",
    "            \n",
    "    def print_list(self):\n",
    "        cur = self.head\n",
    "        while cur:\n",
    "            print(cur.data)\n",
    "            cur = cur.next\n",
    "            \n",
    "    def reverse(self):\n",
    "        temp = None\n",
    "        cur = self.head\n",
    "        while cur:\n",
    "            temp = cur.prev\n",
    "            cur.prev = cur.next\n",
    "            cur.next = temp\n",
    "            cur = cur.prev\n",
    "        if temp:\n",
    "            self.head = temp.prev"
   ]
  },
  {
   "cell_type": "code",
   "execution_count": 6,
   "metadata": {},
   "outputs": [
    {
     "name": "stdout",
     "output_type": "stream",
     "text": [
      "1\n",
      "2\n",
      "3\n",
      "4\n",
      "--\n",
      "4\n",
      "3\n",
      "2\n",
      "1\n"
     ]
    }
   ],
   "source": [
    "dllist = DoublyLinkedList()\n",
    "dllist.append(1)\n",
    "dllist.append(2)\n",
    "dllist.append(3)\n",
    "dllist.append(4)\n",
    "dllist.print_list()\n",
    "print(\"--\")\n",
    "dllist.reverse()\n",
    "dllist.print_list()"
   ]
  },
  {
   "cell_type": "code",
   "execution_count": null,
   "metadata": {},
   "outputs": [],
   "source": []
  }
 ],
 "metadata": {
  "kernelspec": {
   "display_name": "Python 3.8.5 32-bit",
   "language": "python",
   "name": "python38532bitd48683f89fbe4418beb3056b5ed1f1a8"
  },
  "language_info": {
   "codemirror_mode": {
    "name": "ipython",
    "version": 3
   },
   "file_extension": ".py",
   "mimetype": "text/x-python",
   "name": "python",
   "nbconvert_exporter": "python",
   "pygments_lexer": "ipython3",
   "version": "3.8.5"
  }
 },
 "nbformat": 4,
 "nbformat_minor": 4
}
