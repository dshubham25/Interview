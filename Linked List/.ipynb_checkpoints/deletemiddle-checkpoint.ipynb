{
 "cells": [
  {
   "cell_type": "markdown",
   "metadata": {},
   "source": [
    "### Delete the middle node of the linked list"
   ]
  },
  {
   "cell_type": "code",
   "execution_count": 1,
   "metadata": {},
   "outputs": [],
   "source": [
    "class Node:\n",
    "    def __init__(self, data):\n",
    "        self.data = data\n",
    "        self.next = None\n",
    "        "
   ]
  },
  {
   "cell_type": "code",
   "execution_count": 27,
   "metadata": {},
   "outputs": [],
   "source": [
    "class LinkedList:\n",
    "    def __init__(self):\n",
    "        self.head = None\n",
    "    def append(self, data): \n",
    "        newNode = Node(data) \n",
    "        if self.head is None: \n",
    "            self.head = newNode \n",
    "            return    \n",
    "        last = self.head \n",
    "        while last.next: \n",
    "            last = last.next    \n",
    "        last.next = newNode\n",
    "    def __str__(self):\n",
    "        \n",
    "        linkedListStr = \"\" \n",
    "        temp = self.head \n",
    "        while temp: \n",
    "            linkedListStr += str(temp.data) + \"->\"\n",
    "            temp = temp.next    \n",
    "        return linkedListStr + \"NULL\"\n",
    "    def deletemiddle(self):\n",
    "        if (self.head is None or \n",
    "            self.head.next is None): \n",
    "            return\n",
    "        slow_Ptr = self.head \n",
    "        fast_Ptr = self.head  \n",
    "        prev = None\n",
    "        while (fast_Ptr is not None and \n",
    "               fast_Ptr.next is not None): \n",
    "            fast_Ptr = fast_Ptr.next.next\n",
    "            prev = slow_Ptr \n",
    "            slow_Ptr = slow_Ptr.next\n",
    "            prev.next = slow_Ptr.next"
   ]
  },
  {
   "cell_type": "code",
   "execution_count": 30,
   "metadata": {},
   "outputs": [
    {
     "name": "stdout",
     "output_type": "stream",
     "text": [
      "1->2->3->4->NULL\n"
     ]
    }
   ],
   "source": [
    "ll = LinkedList()\n",
    "ll.append(1)\n",
    "ll.append(2)\n",
    "ll.append(3)\n",
    "ll.append(4)\n",
    "print(ll)"
   ]
  },
  {
   "cell_type": "code",
   "execution_count": 31,
   "metadata": {},
   "outputs": [
    {
     "name": "stdout",
     "output_type": "stream",
     "text": [
      "1->3->4->NULL\n"
     ]
    }
   ],
   "source": [
    "ll.deletemiddle()\n",
    "print(ll)"
   ]
  },
  {
   "cell_type": "code",
   "execution_count": null,
   "metadata": {},
   "outputs": [],
   "source": []
  }
 ],
 "metadata": {
  "kernelspec": {
   "display_name": "Python 3.8.5 32-bit",
   "language": "python",
   "name": "python38532bitd48683f89fbe4418beb3056b5ed1f1a8"
  },
  "language_info": {
   "codemirror_mode": {
    "name": "ipython",
    "version": 3
   },
   "file_extension": ".py",
   "mimetype": "text/x-python",
   "name": "python",
   "nbconvert_exporter": "python",
   "pygments_lexer": "ipython3",
   "version": "3.8.5"
  }
 },
 "nbformat": 4,
 "nbformat_minor": 4
}
