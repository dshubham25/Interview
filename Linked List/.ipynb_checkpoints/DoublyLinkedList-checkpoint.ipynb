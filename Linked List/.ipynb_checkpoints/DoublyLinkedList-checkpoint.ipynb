{
 "cells": [
  {
   "cell_type": "markdown",
   "metadata": {},
   "source": [
    "### Doubly Linked List Construction"
   ]
  },
  {
   "cell_type": "code",
   "execution_count": 32,
   "metadata": {},
   "outputs": [],
   "source": [
    "class Node:\n",
    "    def __init__(self, data):\n",
    "        self.data = data\n",
    "        self.next = None\n",
    "        self.prev = None"
   ]
  },
  {
   "cell_type": "code",
   "execution_count": 33,
   "metadata": {},
   "outputs": [],
   "source": [
    "class DoublyLinkedList:\n",
    "    def __init__(self):\n",
    "        self.head = None\n",
    "    # add nodes to the end of the linked list\n",
    "    def append(self, data):\n",
    "        if self.head is None:\n",
    "            new_node = Node(data)\n",
    "            new_node.prev = None\n",
    "            self.head = new_node\n",
    "        else:\n",
    "            new_node = Node(data)\n",
    "            cur = self.head\n",
    "            while cur.next:\n",
    "                cur = cur.next\n",
    "            cur.next = new_node\n",
    "            new_node.prev = cur\n",
    "            new_node.next = None\n",
    "            \n",
    "    def print_list(self):\n",
    "        cur = self.head\n",
    "        while cur:\n",
    "            print(cur.data)\n",
    "            cur = cur.next\n",
    "    # add nodes to the front of the linked list\n",
    "    def prepend(self, data):\n",
    "        \n",
    "        if self.head is None:\n",
    "            new_node = Node(data)\n",
    "            new_node.prev = None \n",
    "            self.head = new_node\n",
    "        else:\n",
    "            new_node = Node(data)\n",
    "            self.head.prev = new_node\n",
    "            new_node.next = self.head\n",
    "            self.head = new_node\n",
    "            new_node.prev = None\n",
    "            \n",
    "    def add_after_node(self, key, data):\n",
    "        cur = self.head\n",
    "        while cur:\n",
    "            if cur.next is None and cur.data == key:\n",
    "                self.append(data)\n",
    "            elif cur.data == key:\n",
    "                new_node = Node(data)\n",
    "                nxt = cur.next \n",
    "                cur.next = new_node\n",
    "                new_node.next = nxt\n",
    "                nxt.prev = new_node\n",
    "            cur = cur.next\n",
    "            \n",
    "    def add_before_node(self, key, data):\n",
    "        cur = self.head \n",
    "        while cur:\n",
    "            if cur.prev is None and cur.data == key:\n",
    "                self.prepend(data)\n",
    "            elif cur.data == key:\n",
    "                new_node = Node(data)\n",
    "                prev = cur.prev\n",
    "                prev.next = new_node\n",
    "                cur.prev = new_node\n",
    "                new_node.next = cur\n",
    "            cur = cur.next\n",
    "            \n",
    "    def delete(self, key):\n",
    "        cur = self.head\n",
    "        while cur:\n",
    "            if cur.data == key and cur == self.head:\n",
    "                if not cur.next:\n",
    "                    cur = None \n",
    "                    self.head = None\n",
    "                    return\n",
    "                else:\n",
    "                    nxt = cur.next\n",
    "                    cur.next = None \n",
    "                    nxt.prev = None\n",
    "                    cur = None\n",
    "                    self.head = nxt\n",
    "                    return \n",
    "\n",
    "            elif cur.data == key:\n",
    "                if cur.next:\n",
    "                    nxt = cur.next \n",
    "                    prev = cur.prev\n",
    "                    prev.next = nxt\n",
    "                    nxt.prev = prev\n",
    "                    cur.next = None \n",
    "                    cur.prev = None\n",
    "                    cur = None\n",
    "                    return\n",
    "                else:\n",
    "                    prev = cur.prev \n",
    "                    prev.next = None \n",
    "                    cur.prev = None \n",
    "                    cur = None \n",
    "                    return \n",
    "            cur = cur.next"
   ]
  },
  {
   "cell_type": "code",
   "execution_count": 34,
   "metadata": {},
   "outputs": [
    {
     "name": "stdout",
     "output_type": "stream",
     "text": [
      "1\n",
      "2\n",
      "3\n",
      "4\n"
     ]
    }
   ],
   "source": [
    "dllist = DoublyLinkedList()\n",
    "dllist.append(1)\n",
    "dllist.append(2)\n",
    "dllist.append(3)\n",
    "dllist.append(4)\n",
    "\n",
    "dllist.print_list()"
   ]
  },
  {
   "cell_type": "code",
   "execution_count": 35,
   "metadata": {},
   "outputs": [
    {
     "name": "stdout",
     "output_type": "stream",
     "text": [
      "5\n",
      "0\n",
      "1\n",
      "2\n",
      "3\n",
      "4\n"
     ]
    }
   ],
   "source": [
    "dllist = DoublyLinkedList()\n",
    "dllist.prepend(0)\n",
    "dllist.append(1)\n",
    "dllist.append(2)\n",
    "dllist.append(3)\n",
    "dllist.append(4)\n",
    "dllist.prepend(5)\n",
    "\n",
    "dllist.print_list()"
   ]
  },
  {
   "cell_type": "code",
   "execution_count": 36,
   "metadata": {},
   "outputs": [
    {
     "name": "stdout",
     "output_type": "stream",
     "text": [
      "5\n",
      "0\n",
      "1\n",
      "2\n",
      "3\n",
      "6\n",
      "9\n",
      "4\n"
     ]
    }
   ],
   "source": [
    "dllist.add_after_node(3,6)\n",
    "dllist.add_before_node(4, 9)\n",
    "dllist.print_list()"
   ]
  },
  {
   "cell_type": "code",
   "execution_count": 37,
   "metadata": {},
   "outputs": [
    {
     "name": "stdout",
     "output_type": "stream",
     "text": [
      "5\n",
      "0\n",
      "2\n",
      "3\n",
      "6\n",
      "9\n",
      "4\n",
      "--\n",
      "5\n",
      "0\n",
      "2\n",
      "3\n",
      "6\n",
      "9\n",
      "--\n",
      "5\n",
      "0\n",
      "2\n",
      "6\n",
      "9\n"
     ]
    }
   ],
   "source": [
    "dllist.delete(1)\n",
    "dllist.print_list()\n",
    "print(\"--\")\n",
    "dllist.delete(4)\n",
    "dllist.print_list()\n",
    "print(\"--\")\n",
    "dllist.delete(3)\n",
    "dllist.print_list()"
   ]
  }
 ],
 "metadata": {
  "kernelspec": {
   "display_name": "Python 3.8.5 32-bit",
   "language": "python",
   "name": "python38532bitd48683f89fbe4418beb3056b5ed1f1a8"
  },
  "language_info": {
   "codemirror_mode": {
    "name": "ipython",
    "version": 3
   },
   "file_extension": ".py",
   "mimetype": "text/x-python",
   "name": "python",
   "nbconvert_exporter": "python",
   "pygments_lexer": "ipython3",
   "version": "3.8.5"
  }
 },
 "nbformat": 4,
 "nbformat_minor": 4
}
