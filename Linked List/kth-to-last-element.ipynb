{
 "cells": [
  {
   "cell_type": "markdown",
   "metadata": {},
   "source": [
    "### Find the kth to last element of a linked list"
   ]
  },
  {
   "cell_type": "markdown",
   "metadata": {},
   "source": [
    "#### Algorithm:\n",
    "*method 1*\n",
    "* calculate the length of the linked list\n",
    "* count down the total length until the \"k\" is reached\n",
    "\n",
    "*method 2*\n",
    "* have two pointers p and q\n",
    "    * increment the pointer by k\n",
    "    * when the q pointer reaches to null the p pointer will point to the kth element"
   ]
  },
  {
   "cell_type": "code",
   "execution_count": 1,
   "metadata": {},
   "outputs": [],
   "source": [
    "class Node:\n",
    "    def __init__(self, data):\n",
    "        self.data = data\n",
    "        self.next = None"
   ]
  },
  {
   "cell_type": "code",
   "execution_count": 23,
   "metadata": {},
   "outputs": [],
   "source": [
    "class LinkedList:\n",
    "    def __init__(self):\n",
    "        self.head = None\n",
    "\n",
    "    def print_list(self):\n",
    "        cur_node = self.head\n",
    "        while cur_node:\n",
    "            print(cur_node.data)\n",
    "            cur_node = cur_node.next\n",
    "    def append(self, data):\n",
    "        new_node = Node(data)\n",
    "\n",
    "        if self.head is None:\n",
    "            self.head = new_node\n",
    "            return\n",
    "\n",
    "        last_node = self.head\n",
    "        while last_node.next:\n",
    "            last_node = last_node.next\n",
    "        last_node.next = new_node\n",
    "    def len_iterative(self):\n",
    "        count = 0\n",
    "        cur_node = self.head\n",
    "\n",
    "        while cur_node:\n",
    "            count += 1\n",
    "            cur_node = cur_node.next\n",
    "        return count\n",
    "    def print_nth_from_last(self, n):\n",
    "        total_len = self.len_iterative()\n",
    "\n",
    "        cur = self.head \n",
    "        while cur:\n",
    "            if total_len == n:\n",
    "                print(cur.data)\n",
    "                return cur\n",
    "            total_len -= 1\n",
    "            cur = cur.next\n",
    "            if cur is None:\n",
    "                return\n",
    "    def print_kth_from_last(self, n):\n",
    "        p = self.head\n",
    "        q = self.head\n",
    "        count = 0\n",
    "        while q and count < n:\n",
    "            q = q.next\n",
    "            count += 1\n",
    "        if not q:\n",
    "            raise TypeError(\"n is greater then linked list\")\n",
    "            return\n",
    "        while p and q:\n",
    "            p = p.next\n",
    "            q = q.next\n",
    "        return p.data"
   ]
  },
  {
   "cell_type": "code",
   "execution_count": 24,
   "metadata": {},
   "outputs": [
    {
     "name": "stdout",
     "output_type": "stream",
     "text": [
      "C\n"
     ]
    }
   ],
   "source": [
    "llist = LinkedList()\n",
    "llist.append(\"A\")\n",
    "llist.append(\"B\")\n",
    "llist.append(\"C\")\n",
    "llist.append(\"D\")\n",
    "\n",
    "print(llist.print_kth_from_last(2))"
   ]
  },
  {
   "cell_type": "code",
   "execution_count": 25,
   "metadata": {},
   "outputs": [
    {
     "name": "stdout",
     "output_type": "stream",
     "text": [
      "C\n",
      "<__main__.Node object at 0x05573E08>\n"
     ]
    }
   ],
   "source": [
    "llist = LinkedList()\n",
    "llist.append(\"A\")\n",
    "llist.append(\"B\")\n",
    "llist.append(\"C\")\n",
    "llist.append(\"D\")\n",
    "\n",
    "print(llist.print_nth_from_last(2))"
   ]
  },
  {
   "cell_type": "code",
   "execution_count": null,
   "metadata": {},
   "outputs": [],
   "source": []
  }
 ],
 "metadata": {
  "kernelspec": {
   "display_name": "Python 3.8.5 32-bit",
   "language": "python",
   "name": "python38532bitd48683f89fbe4418beb3056b5ed1f1a8"
  },
  "language_info": {
   "codemirror_mode": {
    "name": "ipython",
    "version": 3
   },
   "file_extension": ".py",
   "mimetype": "text/x-python",
   "name": "python",
   "nbconvert_exporter": "python",
   "pygments_lexer": "ipython3",
   "version": "3.8.5"
  }
 },
 "nbformat": 4,
 "nbformat_minor": 4
}
