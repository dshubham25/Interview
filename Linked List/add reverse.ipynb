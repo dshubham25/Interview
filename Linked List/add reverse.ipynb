{
 "cells": [
  {
   "cell_type": "code",
   "execution_count": 1,
   "metadata": {},
   "outputs": [],
   "source": [
    "class Node:\n",
    "    def __init__(self, data):\n",
    "        self.data = data\n",
    "        self.next = None"
   ]
  },
  {
   "cell_type": "code",
   "execution_count": 8,
   "metadata": {},
   "outputs": [],
   "source": [
    "class LinkedList:\n",
    "    def __init__(self):\n",
    "        self.head = None\n",
    "    def push(self, new_data):\n",
    "        new_node = Node(new_data)\n",
    "        new_node.next = self.head\n",
    "        self.head = new_node\n",
    "    def add_two(self, first, second):\n",
    "        prev = None\n",
    "        temp = None\n",
    "        carry = 0\n",
    "        while (first is not None or second is not None):\n",
    "            data1 = 0 if first is None else first.data \n",
    "            data2 = 0 if second is None else second.data\n",
    "            s = carry + data1 + data2\n",
    "            carry = 1 if s >= 10 else 0\n",
    "            s = s if s < 10 else s % 10\n",
    "            temp = Node(s)\n",
    "            if self.head is None:\n",
    "                self.head = temp\n",
    "            else:\n",
    "                prev.next = temp\n",
    "            prev = temp\n",
    "            if first is not None:\n",
    "                first = first.next\n",
    "            if second is not None:\n",
    "                second = second.next\n",
    "        if carry > 0:\n",
    "            temp.next = Node(carry)\n",
    "    def printList(self):\n",
    "        temp = self.head\n",
    "        while (temp):\n",
    "            print (temp.data)\n",
    "            temp = temp.next"
   ]
  },
  {
   "cell_type": "code",
   "execution_count": 10,
   "metadata": {},
   "outputs": [
    {
     "name": "stdout",
     "output_type": "stream",
     "text": [
      "First List is \n",
      "7\n",
      "5\n",
      "9\n",
      "4\n",
      "6\n",
      "\n",
      "Second List is \n",
      "8\n",
      "4\n",
      "\n",
      "Resultant list is \n",
      "5\n",
      "0\n",
      "0\n",
      "5\n",
      "6\n"
     ]
    }
   ],
   "source": [
    "first = LinkedList() \n",
    "second = LinkedList() \n",
    "  \n",
    "# Create first list \n",
    "first.push(6) \n",
    "first.push(4) \n",
    "first.push(9) \n",
    "first.push(5) \n",
    "first.push(7) \n",
    "print (\"First List is \") \n",
    "first.printList() \n",
    "  \n",
    "# Create second list \n",
    "second.push(4) \n",
    "second.push(8) \n",
    "print (\"\\nSecond List is \")\n",
    "second.printList() \n",
    "  \n",
    "# Add the two lists and see result \n",
    "res = LinkedList() \n",
    "res.add_two(first.head, second.head) \n",
    "print(\"\\nResultant list is \") \n",
    "res.printList() "
   ]
  },
  {
   "cell_type": "code",
   "execution_count": null,
   "metadata": {},
   "outputs": [],
   "source": []
  }
 ],
 "metadata": {
  "kernelspec": {
   "display_name": "Python 3.8.5 32-bit",
   "language": "python",
   "name": "python38532bitd48683f89fbe4418beb3056b5ed1f1a8"
  },
  "language_info": {
   "codemirror_mode": {
    "name": "ipython",
    "version": 3
   },
   "file_extension": ".py",
   "mimetype": "text/x-python",
   "name": "python",
   "nbconvert_exporter": "python",
   "pygments_lexer": "ipython3",
   "version": "3.8.5"
  }
 },
 "nbformat": 4,
 "nbformat_minor": 4
}
