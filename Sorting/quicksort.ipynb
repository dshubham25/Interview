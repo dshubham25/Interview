{
 "cells": [
  {
   "cell_type": "code",
   "execution_count": 4,
   "metadata": {},
   "outputs": [],
   "source": [
    "def quicksort(array):\n",
    "    helper(array, 0, len(array)-1)\n",
    "    return array"
   ]
  },
  {
   "cell_type": "code",
   "execution_count": 7,
   "metadata": {},
   "outputs": [],
   "source": [
    "def helper(array, startidx, endidx):\n",
    "    if startidx >= endidx:\n",
    "        return\n",
    "    pivotidx = startidx\n",
    "    leftidx = startidx + 1\n",
    "    rightidx = endidx\n",
    "    while rightidx >= leftidx:\n",
    "        if array[leftidx] > array[pivotidx] and array[rightidx] < array[pivotidx]:\n",
    "            swap(leftidx, rightidx, array)\n",
    "        if array[leftidx] <= array[rightidx]:\n",
    "            leftidx += 1\n",
    "        if array[rightidx] >= array[pivotidx]:\n",
    "            rightidx -= 1\n",
    "        swap(pivotidx, rightidx, array)\n",
    "        leftsubarray = rightidx - 1 - startidx < endidx - (rightidx + 1)\n",
    "        if leftsubarray:\n",
    "            helper(array, startidx, rightidx - 1)\n",
    "            helper(array, rightidx+1, endidx)\n",
    "        else:\n",
    "            helper(array, rightidx+1, endidx)\n",
    "            helper(array, startidx, rightidx - 1)\n",
    "def swap(i, j, array):\n",
    "    array[i], array[j] = array[j], array[i]"
   ]
  },
  {
   "cell_type": "code",
   "execution_count": 8,
   "metadata": {},
   "outputs": [
    {
     "name": "stdout",
     "output_type": "stream",
     "text": [
      "[2, 3, 8, 5, 4, 11]\n"
     ]
    }
   ],
   "source": [
    "a = [2,11, 4, 8,3,5]\n",
    "print(quicksort(a))"
   ]
  },
  {
   "cell_type": "code",
   "execution_count": null,
   "metadata": {},
   "outputs": [],
   "source": []
  }
 ],
 "metadata": {
  "kernelspec": {
   "display_name": "Python 3.8.5 32-bit",
   "language": "python",
   "name": "python38532bitd48683f89fbe4418beb3056b5ed1f1a8"
  },
  "language_info": {
   "codemirror_mode": {
    "name": "ipython",
    "version": 3
   },
   "file_extension": ".py",
   "mimetype": "text/x-python",
   "name": "python",
   "nbconvert_exporter": "python",
   "pygments_lexer": "ipython3",
   "version": "3.8.5"
  }
 },
 "nbformat": 4,
 "nbformat_minor": 4
}
